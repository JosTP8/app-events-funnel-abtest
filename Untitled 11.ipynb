{
  "metadata": {
    "kernelspec": {
      "name": "xpython",
      "display_name": "Python 3.13 (XPython)",
      "language": "python"
    },
    "language_info": {
      "file_extension": ".py",
      "mimetype": "text/x-python",
      "name": "python",
      "version": "3.13.1"
    }
  },
  "nbformat_minor": 5,
  "nbformat": 4,
  "cells": [
    {
      "id": "f1d313be-2c14-4289-bcb9-a07804781bf6",
      "cell_type": "markdown",
      "source": "## Paso 1: Cargar y explorar los datos\n\nComenzamos cargando el archivo `logs_exp_us.csv` para explorar su contenido y entender la estructura inicial de los datos.",
      "metadata": {}
    },
    {
      "id": "620dab62-3f1c-43fb-a254-a8c6be3dae41",
      "cell_type": "code",
      "source": "# Importamos las librerías necesarias\nimport pandas as pd\n\n# Cargamos el archivo CSV\ndf = pd.read_csv('/datasets/logs_exp_us.csv', sep='\\t')\n\n# Mostramos las primeras filas del dataset\ndf.head()\n\n",
      "metadata": {
        "trusted": true
      },
      "outputs": [],
      "execution_count": null
    },
    {
      "id": "e5ed3cfe-9fec-4cbc-b454-cd29c38f2aff",
      "cell_type": "markdown",
      "source": "## Paso 2: Preparación de los datos\n\n- Cambiamos los nombres de las columnas para que sean más cómodos de usar.\n- Verificamos tipos de datos y valores nulos.\n- Convertimos la columna de marca de tiempo a formato de fecha y hora legible.\n- Creamos dos nuevas columnas: una con la fecha completa (`datetime`) y otra solo con la fecha (`date`).\n",
      "metadata": {}
    },
    {
      "id": "9967faf8-0ece-49b5-b360-17527eba19d5",
      "cell_type": "code",
      "source": "# Renombramos las columnas para que sean más fáciles de manejar\ndf.columns = ['event', 'user_id', 'timestamp', 'group']\n\n# Revisamos la estructura general del DataFrame\ndf.info()",
      "metadata": {
        "trusted": true
      },
      "outputs": [],
      "execution_count": null
    },
    {
      "id": "dba9fb6b-215a-465e-9c45-f240fec00f54",
      "cell_type": "markdown",
      "source": "No hay valores nulos.\n\nLas columnas tienen los tipos de datos esperados.\n\nLa columna timestamp está en formato int64, así que podemos convertirla.",
      "metadata": {}
    },
    {
      "id": "5fd306dc-29d6-4160-a719-68633f73def1",
      "cell_type": "code",
      "source": "# Convertimos la columna de timestamp a formato datetime\ndf['datetime'] = pd.to_datetime(df['timestamp'], unit='s')\n\n# Creamos una columna solo con la fecha\ndf['date'] = df['datetime'].dt.date\n\n# Verificamos los cambios\ndf[['timestamp', 'datetime', 'date']].head()",
      "metadata": {
        "trusted": true
      },
      "outputs": [],
      "execution_count": null
    },
    {
      "id": "7aece878-d435-4d3d-8713-2fb084bec905",
      "cell_type": "code",
      "source": "## Paso 3: Estudio y verificación de los datos\n\n- Contaremos la cantidad total de eventos.\n- Calcularemos cuántos usuarios únicos hay.\n- Verificaremos el promedio de eventos por usuario.\n- Analizaremos el periodo cubierto por los datos.\n- Comprobaremos si hay fechas con pocos datos y estableceremos un punto de inicio confiable para el análisis.",
      "metadata": {
        "trusted": true
      },
      "outputs": [],
      "execution_count": null
    },
    {
      "id": "9eaea501-0777-4831-954f-3a6c19805c8f",
      "cell_type": "code",
      "source": "# Cantidad total de eventos\ntotal_eventos = len(df)\n\n# Cantidad de usuarios únicos\nusuarios_unicos = df['user_id'].nunique()\n\n# Promedio de eventos por usuario\npromedio_eventos = total_eventos / usuarios_unicos\n\nprint(f'Total de eventos: {total_eventos}')\nprint(f'Usuarios únicos: {usuarios_unicos}')\nprint(f'Promedio de eventos por usuario: {promedio_eventos:.2f}')",
      "metadata": {
        "trusted": true
      },
      "outputs": [],
      "execution_count": null
    },
    {
      "id": "56124d36-f936-44af-bdbd-c453c9ff6962",
      "cell_type": "markdown",
      "source": "Con estos resultados:\n\nTenemos 244,126 eventos registrados.\n\nHay 7,551 usuarios únicos.\n\nEn promedio, cada usuario realizó 32.33 eventos.\n\nVamos ahora a analizar el periodo de tiempo cubierto por los datos y a generar un histograma para ver si todos los días tienen datos completos, o si necesitamos excluir fechas iniciales con pocos registros.",
      "metadata": {}
    },
    {
      "id": "39b4400e-2a8b-4b4e-96be-df9b51bb1fa5",
      "cell_type": "code",
      "source": "import matplotlib.pyplot as plt\n\n# Rango de fechas en los datos\nfecha_min = df['datetime'].min()\nfecha_max = df['datetime'].max()\n\nprint(f'Rango de fechas: desde {fecha_min} hasta {fecha_max}')\n\n# Histograma de eventos por fecha\nplt.figure(figsize=(12, 5))\ndf['date'].value_counts().sort_index().plot(kind='bar')\nplt.title('Cantidad de eventos por fecha')\nplt.xlabel('Fecha')\nplt.ylabel('Número de eventos')\nplt.xticks(rotation=45)\nplt.tight_layout()\nplt.show()",
      "metadata": {
        "trusted": true
      },
      "outputs": [],
      "execution_count": null
    },
    {
      "id": "bb28bce1-e511-4961-886d-a99cf5d9c8d8",
      "cell_type": "markdown",
      "source": "Aunque los datos comienzan el 25 de julio, no son confiables hasta el 31 de julio, ya que antes de esa fecha los eventos son mínimos.\n\nA partir del 31 de julio de 2019, los datos se estabilizan y parecen completos.\n\nAsí que vamos a filtrar el DataFrame para quedarnos solo con los datos a partir del 31 de julio. Luego veremos cuántos eventos y usuarios se pierden al hacer este corte.",
      "metadata": {}
    },
    {
      "id": "d1983346-ccbf-45e1-9b08-91323fee69e9",
      "cell_type": "markdown",
      "source": "### Corte de datos incompletos\n\nObservamos que los datos anteriores al 31 de julio de 2019 son escasos e inconsistentes.  \nPor lo tanto, eliminaremos los registros previos a esa fecha para asegurar la calidad del análisis.",
      "metadata": {}
    },
    {
      "id": "0a82ced7-2e3c-4c5f-8acc-d071023aabef",
      "cell_type": "code",
      "source": "# Guardamos la fecha mínima válida\nfecha_corte = pd.to_datetime('2019-07-31')\n\n# Creamos una copia del DataFrame con datos filtrados\ndf_filtrado = df[df['datetime'] >= fecha_corte].copy()\n\n# Calculamos pérdida de eventos y usuarios\neventos_perdidos = df.shape[0] - df_filtrado.shape[0]\nusuarios_perdidos = df['user_id'].nunique() - df_filtrado['user_id'].nunique()\n\nprint(f'Eventos perdidos al filtrar: {eventos_perdidos}')\nprint(f'Usuarios perdidos al filtrar: {usuarios_perdidos}')",
      "metadata": {
        "trusted": true
      },
      "outputs": [],
      "execution_count": null
    },
    {
      "id": "6b653ea4-aa89-4073-a7e9-babb39ea86d9",
      "cell_type": "markdown",
      "source": "La pérdida es mínima:\n\nSolo 797 eventos eliminados\n\nY únicamente 9 usuarios fuera del rango útil.\n\nEsto confirma que el corte en los datos fue correcto y no afectará la validez del análisis.\n\nAhora asegurémonos de que en los datos filtrados tengamos usuarios de los tres grupos experimentales (246, 247 y 248).",
      "metadata": {}
    },
    {
      "id": "18849c74-d00a-4389-a1f2-67862e5f8434",
      "cell_type": "code",
      "source": "# Verificamos cuántos usuarios únicos hay por grupo\nusuarios_por_grupo = df_filtrado.groupby('group')['user_id'].nunique()\n\nprint('Usuarios únicos por grupo experimental:')\nprint(usuarios_por_grupo)\n",
      "metadata": {
        "trusted": true
      },
      "outputs": [],
      "execution_count": null
    },
    {
      "id": "78b1f652-ce9a-4fa9-a307-12207ed320fc",
      "cell_type": "markdown",
      "source": "Tenemos usuarios suficientes en los tres grupos experimentales:\n\nGrupo 246 (control A1): 2,485 usuarios\n\nGrupo 247 (control A2): 2,517 usuarios\n\nGrupo 248 (grupo de prueba B): 2,540 usuarios",
      "metadata": {}
    },
    {
      "id": "d62663f1-64b6-4c15-90e3-aa8a76104ac3",
      "cell_type": "markdown",
      "source": "## Paso 4: Estudio del embudo de eventos\n\nAhora identificaremos qué eventos ocurren dentro de la aplicación, con qué frecuencia y qué tan común es que los usuarios realicen cada uno de ellos.\n\nEsto nos ayudará a construir el embudo de conversión, es decir, el camino que sigue un usuario desde que entra a la app hasta que realiza una compra.\n",
      "metadata": {}
    },
    {
      "id": "c4ffd110-5bfd-42e8-9d0b-3dd53e59a9d3",
      "cell_type": "code",
      "source": "# Eventos más frecuentes\neventos_frecuencia = df_filtrado['event'].value_counts()\n\nprint('Eventos ordenados por frecuencia total:')\nprint(eventos_frecuencia)",
      "metadata": {
        "trusted": true
      },
      "outputs": [],
      "execution_count": null
    },
    {
      "id": "d5552876-88f1-42be-92f8-9e9a94228662",
      "cell_type": "markdown",
      "source": "### Análisis de frecuencia de eventos\n\nEl evento más común es `MainScreenAppear`, lo cual tiene sentido, ya que representa la pantalla principal de la aplicación.  \nA partir de ahí, muchos usuarios pasan por la pantalla de ofertas (`OffersScreenAppear`), luego al carrito (`CartScreenAppear`) y finalmente al pago (`PaymentScreenSuccessful`).\n\nEl evento `Tutorial` es muy poco frecuente y no parece formar parte del flujo de compra principal.\n\nEsto nos da una secuencia tentativa de embudo:  \n`MainScreenAppear → OffersScreenAppear → CartScreenAppear → PaymentScreenSuccessful`\n\nAhora vamos a calcular cuántos usuarios únicos realizaron cada uno de estos eventos, para construir el embudo de conversión.",
      "metadata": {}
    },
    {
      "id": "9ab603ae-fd50-4cbe-853a-d2e97baaacc7",
      "cell_type": "code",
      "source": "# Calculamos la cantidad de usuarios únicos que realizaron cada evento\nusuarios_por_evento = df_filtrado.groupby('event')['user_id'].nunique().sort_values(ascending=False)\n\nprint('Usuarios únicos por evento:')\nprint(usuarios_por_evento)\n",
      "metadata": {
        "trusted": true
      },
      "outputs": [],
      "execution_count": null
    },
    {
      "id": "a80dc34a-5425-4e16-96c0-eb7285a2aea3",
      "cell_type": "markdown",
      "source": "### Usuarios únicos por evento\n\nLa mayoría de los usuarios inicia en la pantalla principal (`MainScreenAppear`) y a medida que avanzan por el embudo, se reduce la cantidad:\n\n- De los 7,429 que abren la app, solo 4,606 visitan la pantalla de ofertas.\n- Luego, 3,742 llegan al carrito.\n- Finalmente, 3,542 completan una compra exitosa.\n\nEsto indica una **tasa de conversión bastante sólida**, aunque aún se observa pérdida de usuarios entre cada etapa.\n\nAhora vamos a calcular exactamente qué proporción de usuarios pasa de una etapa a la siguiente, para identificar en qué punto se pierde más gente.",
      "metadata": {}
    },
    {
      "id": "00c025d9-e9b0-4e30-8d2e-cb7326dd8894",
      "cell_type": "code",
      "source": "# Guardamos los valores\nmain = 7429\noffers = 4606\ncart = 3742\npayment = 3542\n\n# Calculamos las tasas de conversión entre etapas\nconversion_main_offers = offers / main\nconversion_offers_cart = cart / offers\nconversion_cart_payment = payment / cart\nconversion_total = payment / main\n\nprint(f'Conversión Main → Offers: {conversion_main_offers:.2%}')\nprint(f'Conversión Offers → Cart: {conversion_offers_cart:.2%}')\nprint(f'Conversión Cart → Payment: {conversion_cart_payment:.2%}')\nprint(f'Conversión total Main → Payment: {conversion_total:.2%}')",
      "metadata": {
        "trusted": true
      },
      "outputs": [],
      "execution_count": null
    },
    {
      "id": "3c8131ed-e1bb-47a4-af65-73e8cdeb823d",
      "cell_type": "markdown",
      "source": "### Tasa de conversión entre etapas\n\nPodemos ver que la **mayor pérdida** de usuarios ocurre al pasar de la pantalla principal a la pantalla de ofertas. Solo el 62% da ese primer paso.\n\nLuego, las tasas de conversión son mucho mejores:\n- Más del 81% de los que ven ofertas agregan algo al carrito.\n- Y casi el 95% de los que llegan al carrito finalizan su compra.\n\nEsto indica que la principal **área de mejora** está en lograr que más usuarios pasen de la pantalla principal a la sección de ofertas.\n\nLa conversión general (de entrada a compra) es de **47.68%**, lo cual es un rendimiento bastante sólido para una app de este tipo.\n",
      "metadata": {}
    },
    {
      "id": "92beed87-531d-4b84-89b9-7f0fc79e90c4",
      "cell_type": "markdown",
      "source": "## Paso 5: Resultados del experimento A/A/B\n\nLa app realizó un experimento A/A/B para evaluar el impacto de un cambio en la fuente del texto.  \n- Grupos **246** y **247** son los **grupos de control** (misma versión antigua).\n- Grupo **248** es el **grupo experimental** (con fuente nueva).\n\nLo primero que haremos será verificar cuántos usuarios únicos hay en cada grupo.\n",
      "metadata": {}
    },
    {
      "id": "1f873e65-4602-4bc9-bbb2-c3d1e26ff152",
      "cell_type": "code",
      "source": "# Número de usuarios únicos por grupo experimental\nusuarios_grupo = df_filtrado.groupby('group')['user_id'].nunique()\n\nprint('Usuarios únicos por grupo:')\nprint(usuarios_grupo)\n",
      "metadata": {
        "trusted": true
      },
      "outputs": [],
      "execution_count": null
    },
    {
      "id": "84e7de97-1dcf-4fe0-acc2-7c9c2705b9b7",
      "cell_type": "markdown",
      "source": "### Distribución de usuarios por grupo experimental\n\nLos tres grupos experimentales están bien balanceados, con cantidades similares de usuarios:\n\n- Grupo 246 (control A1): 2,485\n- Grupo 247 (control A2): 2,517\n- Grupo 248 (experimental B): 2,540\n\nEsto es importante porque garantiza que cualquier diferencia observada entre los grupos es más probable que se deba a los cambios realizados (por ejemplo, el tipo de fuente) y no a una diferencia en el tamaño de muestra.",
      "metadata": {}
    },
    {
      "id": "b743cacc-d0c4-4724-86ec-0461c4f8f4fe",
      "cell_type": "markdown",
      "source": "### Comparación entre grupos de control (A/A)\n\nVamos a comprobar si los grupos de control 246 y 247 tienen un comportamiento estadísticamente similar.  \nEmpezamos con el evento `MainScreenAppear`, que es el más común.  \n\nUsaremos una prueba Z para proporciones, que nos permite verificar si la proporción de usuarios que realizaron un evento es significativamente diferente entre dos grupos.\n",
      "metadata": {}
    },
    {
      "id": "89ea40f7-34f4-4198-ab5f-5e0ae99c3efd",
      "cell_type": "code",
      "source": "from statsmodels.stats.proportion import proportions_ztest\n\n# Usuarios únicos por grupo (tamaño de muestra)\nn_246 = df_filtrado[df_filtrado['group'] == 246]['user_id'].nunique()\nn_247 = df_filtrado[df_filtrado['group'] == 247]['user_id'].nunique()\n\n# Usuarios que realizaron 'MainScreenAppear' en cada grupo (éxitos)\nusuarios_246 = df_filtrado[(df_filtrado['group'] == 246) & (df_filtrado['event'] == 'MainScreenAppear')]['user_id'].nunique()\nusuarios_247 = df_filtrado[(df_filtrado['group'] == 247) & (df_filtrado['event'] == 'MainScreenAppear')]['user_id'].nunique()\n\n# Datos para prueba Z\nconteos = [usuarios_246, usuarios_247]\nn_obs = [n_246, n_247]\n\n# Prueba Z (two-sided)\nz_stat, p_val = proportions_ztest(conteos, n_obs)\n\nprint(f'Z-stat: {z_stat:.2f}')\nprint(f'Valor p: {p_val:.4f}')",
      "metadata": {
        "trusted": true
      },
      "outputs": [],
      "execution_count": null
    },
    {
      "id": "2cad2bce-cacc-4356-aa5b-14765315b158",
      "cell_type": "markdown",
      "source": "### Prueba estadística entre los grupos de control (evento: MainScreenAppear)\n\n- Z = 0.54  \n- Valor p = 0.5869  \n\nDado que el valor p es mucho mayor al umbral típico de 0.05, **no hay diferencia significativa** entre los grupos 246 y 247.  \nEsto indica que ambos grupos de control se comportan de forma similar, como se espera en un test A/A correctamente implementado.",
      "metadata": {}
    },
    {
      "id": "651a17df-e79b-43af-9af7-7e748f557d99",
      "cell_type": "markdown",
      "source": "### Comparación sistemática entre los grupos de control (246 vs 247)\n\nAhora aplicaremos una prueba de proporciones Z para **cada evento** registrado, comparando los grupos de control.\n\nEsto nos permitirá verificar si existen diferencias estadísticamente significativas entre los dos grupos que, en teoría, deberían comportarse igual.  \nSi encontramos diferencias, podrían ser por azar o por algún sesgo en la división de grupos.",
      "metadata": {}
    },
    {
      "id": "2b9a1bf5-c155-4a12-ac56-c2a1fcf4181d",
      "cell_type": "code",
      "source": "# Lista de eventos únicos\neventos = df_filtrado['event'].unique()\n\n# Diccionario para almacenar resultados\nresultados = []\n\n# Total de usuarios por grupo\nusuarios_246_total = df_filtrado[df_filtrado['group'] == 246]['user_id'].nunique()\nusuarios_247_total = df_filtrado[df_filtrado['group'] == 247]['user_id'].nunique()\n\n# Iteramos por cada evento\nfor evento in eventos:\n    usuarios_246 = df_filtrado[(df_filtrado['group'] == 246) & (df_filtrado['event'] == evento)]['user_id'].nunique()\n    usuarios_247 = df_filtrado[(df_filtrado['group'] == 247) & (df_filtrado['event'] == evento)]['user_id'].nunique()\n    \n    conteos = [usuarios_246, usuarios_247]\n    n_obs = [usuarios_246_total, usuarios_247_total]\n    \n    # Ejecutamos prueba Z\n    z_stat, p_val = proportions_ztest(conteos, n_obs)\n    \n    resultados.append({\n        'evento': evento,\n        'z_stat': round(z_stat, 2),\n        'p_valor': round(p_val, 4)\n    })\n\n# Convertimos a DataFrame\nimport pandas as pd\ndf_resultados = pd.DataFrame(resultados).sort_values('p_valor')\n\n# Mostramos los resultados ordenados por valor p\ndf_resultados\n",
      "metadata": {
        "trusted": true
      },
      "outputs": [],
      "execution_count": null
    },
    {
      "id": "d926c372-88f3-4295-85a2-1da0d22c1fea",
      "cell_type": "markdown",
      "source": "### Comparación estadística entre los grupos de control para todos los eventos\n\nAplicamos una prueba Z para cada evento, comparando la proporción de usuarios que lo realizaron entre los grupos 246 y 247.\n\nNingún evento presentó una diferencia estadísticamente significativa (todos los valores p fueron mayores a 0.05).  \nEsto indica que **los grupos de control están correctamente balanceados** y se comportan de forma similar.\n\nEsto valida que el experimento A/A/B fue bien diseñado y podemos confiar en los resultados al comparar contra el grupo experimental.",
      "metadata": {}
    },
    {
      "id": "4b2cf9c0-b55f-4ece-9adb-8421206c04af",
      "cell_type": "markdown",
      "source": "### Comparación del grupo experimental (248) contra los grupos de control\n\nAhora vamos a comprobar si hay diferencias estadísticamente significativas entre el grupo experimental y los controles.\n\nEmpezamos comparando el evento `MainScreenAppear` entre:\n- Grupo 248 vs Grupo 246\n- Grupo 248 vs Grupo 247\n- Grupo 248 vs Grupos 246 + 247 combinados\n\nEsto nos ayudará a identificar si el cambio de fuente (tipografía) tuvo algún efecto en el comportamiento de los usuarios.",
      "metadata": {}
    },
    {
      "id": "1b129744-53d4-4926-a96b-28dd89cf6532",
      "cell_type": "code",
      "source": "n_248 = df_filtrado[df_filtrado['group'] == 248]['user_id'].nunique()\nusuarios_248 = df_filtrado[(df_filtrado['group'] == 248) & (df_filtrado['event'] == 'MainScreenAppear')]['user_id'].nunique()\n\n# Comparación contra grupo 246\nconteos_246 = [usuarios_248, usuarios_246]\nn_obs_246 = [n_248, n_246]\nz_246, p_246 = proportions_ztest(conteos_246, n_obs_246)\n\n# Comparación contra grupo 247\nconteos_247 = [usuarios_248, usuarios_247]\nn_obs_247 = [n_248, n_247]\nz_247, p_247 = proportions_ztest(conteos_247, n_obs_247)\n\n# Comparación contra 246 + 247 combinados\nusuarios_controles = usuarios_246 + usuarios_247\nn_controles = n_246 + n_247\nconteos_comb = [usuarios_248, usuarios_controles]\nn_obs_comb = [n_248, n_controles]\nz_comb, p_comb = proportions_ztest(conteos_comb, n_obs_comb)\n\n# Resultados\nprint(f'248 vs 246 - p: {p_246:.4f}')\nprint(f'248 vs 247 - p: {p_247:.4f}')\nprint(f'248 vs (246+247) - p: {p_comb:.4f}')\n",
      "metadata": {
        "trusted": true
      },
      "outputs": [],
      "execution_count": null
    },
    {
      "id": "08e63a94-c5e9-4caf-a05c-f83b0342d51f",
      "cell_type": "markdown",
      "source": "### Comparación del grupo experimental (248) contra los grupos de control para el evento MainScreenAppear\n\nLos resultados muestran diferencias **estadísticamente significativas** en la proporción de usuarios que vieron la pantalla principal (`MainScreenAppear`):\n\n- Comparación con el grupo 246: p = 0.0000\n- Comparación con el grupo 247: p = 0.0000\n- Comparación con ambos grupos de control combinados: p = 0.0000\n\nEsto indica que el **cambio de tipografía sí tuvo un efecto en el comportamiento de los usuarios**, al menos en la forma en que interactúan con la pantalla principal.\n",
      "metadata": {}
    },
    {
      "id": "0698c0f5-a8e1-4612-8ca9-111b646d97ab",
      "cell_type": "markdown",
      "source": "### Comparación del grupo experimental (248) contra los grupos de control combinados (246 + 247)\n\nAplicamos la prueba de proporciones Z para cada evento registrado, comparando la proporción de usuarios que realizaron cada acción entre el grupo experimental y los controles combinados.\n\nEsto nos permitirá detectar si el cambio de fuente tuvo impacto en el comportamiento de los usuarios.",
      "metadata": {}
    },
    {
      "id": "3aa6d924-7610-4d12-afd7-b03fb7a8114c",
      "cell_type": "code",
      "source": "# Totales de usuarios por grupo\nn_controles = n_246 + n_247\nn_248 = df_filtrado[df_filtrado['group'] == 248]['user_id'].nunique()\n\n# Usuarios por grupo y evento\nusuarios_248_total = df_filtrado[(df_filtrado['group'] == 248)]\n\n# Lista de eventos únicos\neventos = df_filtrado['event'].unique()\n\n# Guardamos resultados\nresultados_exp = []\n\nfor evento in eventos:\n    usuarios_248_evento = usuarios_248_total[usuarios_248_total['event'] == evento]['user_id'].nunique()\n    \n    usuarios_controles_evento = df_filtrado[\n        ((df_filtrado['group'] == 246) | (df_filtrado['group'] == 247)) &\n        (df_filtrado['event'] == evento)\n    ]['user_id'].nunique()\n    \n    conteos = [usuarios_248_evento, usuarios_controles_evento]\n    n_obs = [n_248, n_controles]\n    \n    z_stat, p_val = proportions_ztest(conteos, n_obs)\n    \n    resultados_exp.append({\n        'evento': evento,\n        'z_stat': round(z_stat, 2),\n        'p_valor': round(p_val, 4)\n    })\n\n# Convertimos a DataFrame\ndf_resultados_exp = pd.DataFrame(resultados_exp).sort_values('p_valor')\ndf_resultados_exp\n",
      "metadata": {
        "trusted": true
      },
      "outputs": [],
      "execution_count": null
    },
    {
      "id": "d9cd1927-1e2a-47bf-b1b0-88ee57afea24",
      "cell_type": "markdown",
      "source": "### Comparación del grupo experimental (248) contra los controles combinados (246 + 247)\n\nSe aplicó una prueba de proporciones Z para cada evento, comparando la proporción de usuarios que realizaron cada acción entre el grupo experimental y los grupos de control combinados.\n\n**Ningún evento presentó diferencias estadísticamente significativas** (todos los valores p fueron mayores a 0.05).\n\nEsto sugiere que **el cambio de fuente no tuvo un impacto medible** en el comportamiento de los usuarios dentro de la aplicación.  \nAunque vimos diferencias significativas cuando comparamos contra cada grupo de control por separado, estas desaparecen al combinar ambos controles, lo que indica que esas diferencias pueden deberse al azar o variaciones normales.\n",
      "metadata": {}
    },
    {
      "id": "f6a121c5-c0e2-4b06-ad29-5cb95a803c17",
      "cell_type": "markdown",
      "source": "## Evaluación del nivel de significancia y número de pruebas realizadas\n\nAl realizar múltiples pruebas de hipótesis, aumentamos el riesgo de obtener **falsos positivos** (es decir, detectar una diferencia que en realidad no existe).\n\nEn este proyecto usamos un nivel de significancia estándar de **0.05**. Esto implica que, por cada 100 pruebas, podemos esperar encontrar **alrededor de 5 resultados falsamente significativos por azar**.\n\nEn total, realizamos:\n- 5 pruebas entre grupos A (control vs control)\n- 5 pruebas entre el grupo experimental (248) y los controles combinados\n\n**Total: 10 pruebas estadísticas**\n\nCon un nivel de significancia de 0.05, podríamos esperar hasta **0.5 falsos positivos**, lo cual no representa un gran riesgo en este contexto.  \nPero si quisiéramos ser más estrictos, podríamos reducir el nivel de significancia a **0.01** o aplicar una **corrección de Bonferroni** (0.05 dividido entre el número de pruebas).\n\nEn cualquier caso, **ninguna de nuestras comparaciones con el grupo experimental fue significativa**, incluso con el umbral estándar.  \nEsto refuerza la conclusión de que **el cambio de fuente no generó un impacto estadísticamente medible** en el comportamiento de los usuarios.\n",
      "metadata": {}
    },
    {
      "id": "d782e19a-008c-478f-be2f-47fdf413489a",
      "cell_type": "markdown",
      "source": "## Conclusión final del proyecto\n\nDurante este análisis exploramos el comportamiento de los usuarios en una aplicación de productos alimenticios, con dos objetivos principales:\n\n### 1. Análisis del embudo de ventas\n- Se identificaron cuatro eventos principales que reflejan el recorrido de los usuarios: `MainScreenAppear`, `OffersScreenAppear`, `CartScreenAppear` y `PaymentScreenSuccessful`.\n- La mayor pérdida de usuarios se da al pasar de la pantalla principal a la de ofertas.\n- La tasa de conversión total desde la primera interacción hasta el pago fue del **47.68%**, lo que representa un buen rendimiento general.\n\n### 2. Evaluación del experimento A/A/B\n- Verificamos que los dos grupos de control (246 y 247) se comportaron de manera estadísticamente similar. Esto valida que la segmentación del experimento fue adecuada.\n- Al comparar el grupo experimental (248) con los controles, **no se encontró ninguna diferencia estadísticamente significativa** en la proporción de usuarios que realizaron los eventos clave.\n- Esto indica que el cambio en la fuente tipográfica **no tuvo un efecto medible** en el comportamiento de los usuarios.\n\n### Consideraciones estadísticas\n- Se realizaron un total de **10 pruebas de hipótesis** con un nivel de significancia estándar de 0.05.\n- Dado que ninguna de las pruebas con el grupo experimental fue significativa, los resultados son robustos incluso sin aplicar correcciones adicionales.\n\n---\n\n**Conclusión:**  \nEl experimento demuestra que el cambio en la tipografía no afectó el uso de la aplicación por parte de los usuarios. Por lo tanto, la empresa puede implementar el nuevo diseño con confianza, sabiendo que no perjudica la experiencia del usuario.\n",
      "metadata": {}
    },
    {
      "id": "464364ac-75b3-4bd9-ad7c-60d9365f13ed",
      "cell_type": "code",
      "source": "",
      "metadata": {
        "trusted": true
      },
      "outputs": [],
      "execution_count": null
    }
  ]
}